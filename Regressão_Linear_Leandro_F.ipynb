{
  "nbformat": 4,
  "nbformat_minor": 0,
  "metadata": {
    "colab": {
      "name": "Regressão Linear - Leandro F.ipynb",
      "provenance": [],
      "collapsed_sections": [],
      "mount_file_id": "15VO4fRugOu8lr6S0wG1qWEGVRjPVb4re",
      "authorship_tag": "ABX9TyN9qaNvbc5XeUCVuZfFnoYa",
      "include_colab_link": true
    },
    "kernelspec": {
      "name": "python3",
      "display_name": "Python 3"
    }
  },
  "cells": [
    {
      "cell_type": "markdown",
      "metadata": {
        "id": "view-in-github",
        "colab_type": "text"
      },
      "source": [
        "<a href=\"https://colab.research.google.com/github/leofls/Linear_Regression/blob/master/Regress%C3%A3o_Linear_Leandro_F.ipynb\" target=\"_parent\"><img src=\"https://colab.research.google.com/assets/colab-badge.svg\" alt=\"Open In Colab\"/></a>"
      ]
    },
    {
      "cell_type": "code",
      "metadata": {
        "id": "AZe7kBhbEJTe",
        "colab_type": "code",
        "colab": {}
      },
      "source": [
        "# bibliotecas\n",
        "import pandas as pd\n",
        "import seaborn as sb\n",
        "\n",
        "from sklearn.metrics import classification_report, confusion_matrix\n",
        "from sklearn.preprocessing import LabelEncoder, OneHotEncoder\n",
        "from sklearn.model_selection import train_test_split\n",
        "from sklearn.metrics import r2_score\n",
        "\n",
        "import matplotlib.pyplot as plt\n",
        "import numpy as np\n",
        "\n",
        "#biblioteca do temporizador\n",
        "import time\n",
        "from functools import wraps"
      ],
      "execution_count": 56,
      "outputs": []
    },
    {
      "cell_type": "code",
      "metadata": {
        "id": "bKY5k4FcA3wU",
        "colab_type": "code",
        "colab": {
          "base_uri": "https://localhost:8080/",
          "height": 204
        },
        "outputId": "007e1c62-1fa4-4b4b-bd86-bb7579511afb"
      },
      "source": [
        "\n",
        "start_time = time.time()\n",
        "#dados\n",
        "address = '/content/drive/My Drive/Colab Notebooks/Tcaixas - Valor.csv'\n",
        " \n",
        "dados = pd.read_csv(address, encoding=\"UTF-8\", sep=\";\")\n",
        " \n",
        "df1 = pd.DataFrame(dados)\n",
        "time_Dataset = time.time() - start_time\n",
        " \n",
        "df1.head()"
      ],
      "execution_count": 57,
      "outputs": [
        {
          "output_type": "execute_result",
          "data": {
            "text/html": [
              "<div>\n",
              "<style scoped>\n",
              "    .dataframe tbody tr th:only-of-type {\n",
              "        vertical-align: middle;\n",
              "    }\n",
              "\n",
              "    .dataframe tbody tr th {\n",
              "        vertical-align: top;\n",
              "    }\n",
              "\n",
              "    .dataframe thead th {\n",
              "        text-align: right;\n",
              "    }\n",
              "</style>\n",
              "<table border=\"1\" class=\"dataframe\">\n",
              "  <thead>\n",
              "    <tr style=\"text-align: right;\">\n",
              "      <th></th>\n",
              "      <th>Item</th>\n",
              "      <th>Altura</th>\n",
              "      <th>Largura</th>\n",
              "      <th>Profundidade</th>\n",
              "      <th>Saida</th>\n",
              "      <th>Valor</th>\n",
              "    </tr>\n",
              "  </thead>\n",
              "  <tbody>\n",
              "    <tr>\n",
              "      <th>0</th>\n",
              "      <td>1</td>\n",
              "      <td>1</td>\n",
              "      <td>1</td>\n",
              "      <td>2</td>\n",
              "      <td>pequena</td>\n",
              "      <td>4</td>\n",
              "    </tr>\n",
              "    <tr>\n",
              "      <th>1</th>\n",
              "      <td>2</td>\n",
              "      <td>3</td>\n",
              "      <td>3</td>\n",
              "      <td>1</td>\n",
              "      <td>pequena</td>\n",
              "      <td>17</td>\n",
              "    </tr>\n",
              "    <tr>\n",
              "      <th>2</th>\n",
              "      <td>3</td>\n",
              "      <td>27</td>\n",
              "      <td>26</td>\n",
              "      <td>23</td>\n",
              "      <td>media</td>\n",
              "      <td>24365</td>\n",
              "    </tr>\n",
              "    <tr>\n",
              "      <th>3</th>\n",
              "      <td>4</td>\n",
              "      <td>28</td>\n",
              "      <td>4</td>\n",
              "      <td>3</td>\n",
              "      <td>media</td>\n",
              "      <td>508</td>\n",
              "    </tr>\n",
              "    <tr>\n",
              "      <th>4</th>\n",
              "      <td>5</td>\n",
              "      <td>4</td>\n",
              "      <td>10</td>\n",
              "      <td>6</td>\n",
              "      <td>pequena</td>\n",
              "      <td>243</td>\n",
              "    </tr>\n",
              "  </tbody>\n",
              "</table>\n",
              "</div>"
            ],
            "text/plain": [
              "   Item  Altura  Largura  Profundidade    Saida  Valor\n",
              "0     1       1        1             2  pequena      4\n",
              "1     2       3        3             1  pequena     17\n",
              "2     3      27       26            23    media  24365\n",
              "3     4      28        4             3    media    508\n",
              "4     5       4       10             6  pequena    243"
            ]
          },
          "metadata": {
            "tags": []
          },
          "execution_count": 57
        }
      ]
    },
    {
      "cell_type": "code",
      "metadata": {
        "id": "HRs2OP7KEb6u",
        "colab_type": "code",
        "colab": {}
      },
      "source": [
        "start_time = time.time()\n",
        "# Verificando correlação\n",
        "df1.corr()\n",
        "time_Dataset_corr = time.time() - start_time"
      ],
      "execution_count": 58,
      "outputs": []
    },
    {
      "cell_type": "code",
      "metadata": {
        "id": "uTccCqgRFHjJ",
        "colab_type": "code",
        "colab": {
          "base_uri": "https://localhost:8080/",
          "height": 204
        },
        "outputId": "b2168b46-3aac-4178-fbc9-c605ec268eef"
      },
      "source": [
        "#Calculando os Volumes das caixas e adicionando uma coluna volume\n",
        "start_time = time.time()\n",
        "Volume = dados['Altura'] * dados['Largura'] * dados['Profundidade']\n",
        "dados.insert(loc=len(dados.columns), column=\"Volume\",value=Volume )\n",
        "time_volume = time.time() - start_time\n",
        "dados.head()"
      ],
      "execution_count": 59,
      "outputs": [
        {
          "output_type": "execute_result",
          "data": {
            "text/html": [
              "<div>\n",
              "<style scoped>\n",
              "    .dataframe tbody tr th:only-of-type {\n",
              "        vertical-align: middle;\n",
              "    }\n",
              "\n",
              "    .dataframe tbody tr th {\n",
              "        vertical-align: top;\n",
              "    }\n",
              "\n",
              "    .dataframe thead th {\n",
              "        text-align: right;\n",
              "    }\n",
              "</style>\n",
              "<table border=\"1\" class=\"dataframe\">\n",
              "  <thead>\n",
              "    <tr style=\"text-align: right;\">\n",
              "      <th></th>\n",
              "      <th>Item</th>\n",
              "      <th>Altura</th>\n",
              "      <th>Largura</th>\n",
              "      <th>Profundidade</th>\n",
              "      <th>Saida</th>\n",
              "      <th>Valor</th>\n",
              "      <th>Volume</th>\n",
              "    </tr>\n",
              "  </thead>\n",
              "  <tbody>\n",
              "    <tr>\n",
              "      <th>0</th>\n",
              "      <td>1</td>\n",
              "      <td>1</td>\n",
              "      <td>1</td>\n",
              "      <td>2</td>\n",
              "      <td>pequena</td>\n",
              "      <td>4</td>\n",
              "      <td>2</td>\n",
              "    </tr>\n",
              "    <tr>\n",
              "      <th>1</th>\n",
              "      <td>2</td>\n",
              "      <td>3</td>\n",
              "      <td>3</td>\n",
              "      <td>1</td>\n",
              "      <td>pequena</td>\n",
              "      <td>17</td>\n",
              "      <td>9</td>\n",
              "    </tr>\n",
              "    <tr>\n",
              "      <th>2</th>\n",
              "      <td>3</td>\n",
              "      <td>27</td>\n",
              "      <td>26</td>\n",
              "      <td>23</td>\n",
              "      <td>media</td>\n",
              "      <td>24365</td>\n",
              "      <td>16146</td>\n",
              "    </tr>\n",
              "    <tr>\n",
              "      <th>3</th>\n",
              "      <td>4</td>\n",
              "      <td>28</td>\n",
              "      <td>4</td>\n",
              "      <td>3</td>\n",
              "      <td>media</td>\n",
              "      <td>508</td>\n",
              "      <td>336</td>\n",
              "    </tr>\n",
              "    <tr>\n",
              "      <th>4</th>\n",
              "      <td>5</td>\n",
              "      <td>4</td>\n",
              "      <td>10</td>\n",
              "      <td>6</td>\n",
              "      <td>pequena</td>\n",
              "      <td>243</td>\n",
              "      <td>240</td>\n",
              "    </tr>\n",
              "  </tbody>\n",
              "</table>\n",
              "</div>"
            ],
            "text/plain": [
              "   Item  Altura  Largura  Profundidade    Saida  Valor  Volume\n",
              "0     1       1        1             2  pequena      4       2\n",
              "1     2       3        3             1  pequena     17       9\n",
              "2     3      27       26            23    media  24365   16146\n",
              "3     4      28        4             3    media    508     336\n",
              "4     5       4       10             6  pequena    243     240"
            ]
          },
          "metadata": {
            "tags": []
          },
          "execution_count": 59
        }
      ]
    },
    {
      "cell_type": "code",
      "metadata": {
        "id": "QHL0oNe8F1iK",
        "colab_type": "code",
        "colab": {
          "base_uri": "https://localhost:8080/",
          "height": 387
        },
        "outputId": "2f00ea9b-1a22-4c8d-8e5a-0e102ec245a3"
      },
      "source": [
        "# importando e plotando o grafico para verificar relação\n",
        "start_time = time.time()\n",
        "\n",
        "dadosnew = dados.loc[:,'Valor':'Volume']\n",
        "\n",
        "sb.pairplot(dadosnew)\n",
        "time_data_view = time.time() - start_time"
      ],
      "execution_count": 60,
      "outputs": [
        {
          "output_type": "display_data",
          "data": {
            "image/png": "[encoded data removed]",
            "text/plain": [
              "<Figure size 360x360 with 6 Axes>"
            ]
          },
          "metadata": {
            "tags": []
          }
        }
      ]
    },
    {
      "cell_type": "code",
      "metadata": {
        "id": "ZCGX3oYhNUBN",
        "colab_type": "code",
        "colab": {
          "base_uri": "https://localhost:8080/",
          "height": 68
        },
        "outputId": "0421c812-c728-438d-d0c0-55444215f4db"
      },
      "source": [
        "start_time = time.time()\n",
        "\n",
        "# pegando as colunas volume e Valor \n",
        "X = df1.iloc[:, 6].values\n",
        "y = df1.iloc[:, 5].values\n",
        "\n",
        "#verificando a coorelação com Nunpy\n",
        "correlacao = np.corrcoef(X, y)\n",
        "print('Correlação(R2): ', correlacao.item(1))\n",
        "\n",
        "#  Aplicando o reshape para alterar a quantidade de dimensões\n",
        "X= X.reshape(-1,1)\n",
        "\n",
        "from sklearn.linear_model import LinearRegression\n",
        "regressor = LinearRegression()\n",
        "regressor.fit(X,y)\n",
        "\n",
        "# b0\n",
        "print('Intercepto (a): ', regressor.coef_)\n",
        "\n",
        "# b1\n",
        "print('Inclinação (b): ',regressor.intercept_)\n",
        "\n",
        "time_corr_vol_valor = time.time() - start_time"
      ],
      "execution_count": 61,
      "outputs": [
        {
          "output_type": "stream",
          "text": [
            "Correlação(R2):  0.9181611764404379\n",
            "Intercepto (a):  [2.4010921]\n",
            "Inclinação (b):  580.1533364116331\n"
          ],
          "name": "stdout"
        }
      ]
    },
    {
      "cell_type": "code",
      "metadata": {
        "id": "rNO8oswsf7np",
        "colab_type": "code",
        "colab": {}
      },
      "source": [
        "# Treinando a recressão\n",
        "start_time = time.time()\n",
        "\n",
        "X_train, X_test, y_train, y_test = train_test_split(X,y, test_size=0.3, random_state=10)\n",
        "\n",
        "# instanciando regressor para verificar a regreção linear\n",
        "regressor = LinearRegression()\n",
        "regressor.fit(X_train, y_train)\n",
        "\n",
        "# teste de predição setando resultados\n",
        "y_pred = regressor.predict(X_test)\n",
        "\n",
        "time_Train_Test_sets = time.time() - start_time"
      ],
      "execution_count": 62,
      "outputs": []
    },
    {
      "cell_type": "code",
      "metadata": {
        "id": "DVD1ZufshmQS",
        "colab_type": "code",
        "colab": {
          "base_uri": "https://localhost:8080/",
          "height": 68
        },
        "outputId": "9c4f8d38-b9b2-4617-d5f7-96552b2d5ca3"
      },
      "source": [
        "start_time = time.time()\n",
        "# b0\n",
        "print('Intercepto (a): ', regressor.coef_)\n",
        "\n",
        "# b1\n",
        "print('Inclinação (b): ',regressor.intercept_)\n",
        "\n",
        "# R\n",
        "print('Correlação(R2): ', r2_score(y_test, y_pred))\n",
        "time_show_values = time.time() - start_time"
      ],
      "execution_count": 63,
      "outputs": [
        {
          "output_type": "stream",
          "text": [
            "Intercepto (a):  [2.29335363]\n",
            "Inclinação (b):  2257.8816486333235\n",
            "Correlação(R2):  0.8869138056671824\n"
          ],
          "name": "stdout"
        }
      ]
    },
    {
      "cell_type": "code",
      "metadata": {
        "id": "IZBTfYKkBboG",
        "colab_type": "code",
        "colab": {
          "base_uri": "https://localhost:8080/",
          "height": 750
        },
        "outputId": "a58f1dc1-d75a-4954-f76f-80c35648b0cc"
      },
      "source": [
        "#plotando graficos\n",
        "start_time = time.time()\n",
        "\n",
        "plt.style.use(\"ggplot\")\n",
        "plt.figure(figsize=(10,5))\n",
        "plt.scatter(X,y, color=\"b\")\n",
        "plt.plot(X, regressor.predict(X), color='r')\n",
        "plt.title('Regressão Linear Simple dos dados da fabrica')\n",
        "plt.xlabel('Volume(cm³)')\n",
        "plt.ylabel('Valor(R$)')\n",
        "plt.show()\n",
        "\n",
        "print(\"\\n\")\n",
        "\n",
        "from yellowbrick.regressor import ResidualsPlot\n",
        "visualizador = ResidualsPlot(regressor)\n",
        "visualizador.fit(X, y)\n",
        "visualizador.poof()\n",
        "\n",
        "time_graph = time.time() - start_time\n"
      ],
      "execution_count": 64,
      "outputs": [
        {
          "output_type": "display_data",
          "data": {
            "image/png": "[encoded data removed]",
            "text/plain": [
              "<Figure size 720x360 with 1 Axes>"
            ]
          },
          "metadata": {
            "tags": []
          }
        },
        {
          "output_type": "stream",
          "text": [
            "\n",
            "\n"
          ],
          "name": "stdout"
        },
        {
          "output_type": "display_data",
          "data": {
            "image/png": "[encoded data removed]",
            "text/plain": [
              "<Figure size 576x396 with 2 Axes>"
            ]
          },
          "metadata": {
            "tags": []
          }
        }
      ]
    },
    {
      "cell_type": "markdown",
      "metadata": {
        "id": "0FrExoEHCndU",
        "colab_type": "text"
      },
      "source": [
        "# Tempo de cada execução do algoritmo"
      ]
    },
    {
      "cell_type": "code",
      "metadata": {
        "id": "pBSQHfSMCFD4",
        "colab_type": "code",
        "colab": {
          "base_uri": "https://localhost:8080/",
          "height": 170
        },
        "outputId": "d2331cd3-94e6-40a3-e5cf-f8d35ea0ab6c"
      },
      "source": [
        "#tempo de cada execução do algoritmo\n",
        "print(\"Load Dataset:                                %.4f\" % time_Dataset, \"segundos.\")\n",
        "print(\"Data set Corr:                               %.4f\" % time_Dataset_corr, \"segundos.\")\n",
        "print(\"Calculating volume:                          %.4f\" % time_volume, \"segundos.\")\n",
        "print(\"Visualization graph:                         %.4f\" % time_data_view, \"segundos.\")\n",
        "print(\"Correlation Valor and Vol:                   %.4f\" % time_corr_vol_valor, \"segundos.\")\n",
        "print(\"Split Train Test sets:                       %.4f\" % time_Train_Test_sets, \"segundos.\")\n",
        "print(\"Time to show Values:                         %.4f\" % time_show_values, \"segundos.\")\n",
        "print(\"Print a decision tree:                       %.4f\" % time_graph, \"segundos.\")\n",
        "print(\"prediction Test:                             %.4f\" % time_prediction, \"segundos.\")"
      ],
      "execution_count": 65,
      "outputs": [
        {
          "output_type": "stream",
          "text": [
            "Load Dataset:                                0.0070 segundos.\n",
            "Data set Corr:                               0.0011 segundos.\n",
            "Calculating volume:                          0.0037 segundos.\n",
            "Visualization graph:                         0.3027 segundos.\n",
            "Correlation Valor and Vol:                   0.0023 segundos.\n",
            "Split Train Test sets:                       0.0049 segundos.\n",
            "Time to show Values:                         0.0036 segundos.\n",
            "Print a decision tree:                       0.6216 segundos.\n",
            "prediction Test:                             0.0015 segundos.\n"
          ],
          "name": "stdout"
        }
      ]
    }
  ]
}